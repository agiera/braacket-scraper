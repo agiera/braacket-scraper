{
 "cells": [
  {
   "cell_type": "code",
   "execution_count": 3,
   "id": "ee9f70b0",
   "metadata": {},
   "outputs": [],
   "source": [
    "import polars as pl\n",
    "import trueskill"
   ]
  },
  {
   "cell_type": "markdown",
   "id": "1215a562",
   "metadata": {},
   "source": [
    "## Create player dataframe"
   ]
  },
  {
   "cell_type": "code",
   "execution_count": 4,
   "id": "807d4185",
   "metadata": {},
   "outputs": [],
   "source": [
    "matches = pl.read_csv('data/matches.csv')"
   ]
  },
  {
   "cell_type": "code",
   "execution_count": 5,
   "id": "bc375bd3",
   "metadata": {},
   "outputs": [
    {
     "data": {
      "text/html": [
       "<div><style>\n",
       ".dataframe > thead > tr,\n",
       ".dataframe > tbody > tr {\n",
       "  text-align: right;\n",
       "  white-space: pre-wrap;\n",
       "}\n",
       "</style>\n",
       "<small>shape: (2_207, 2)</small><table border=\"1\" class=\"dataframe\"><thead><tr><th>tag</th><th>url</th></tr><tr><td>str</td><td>str</td></tr></thead><tbody><tr><td>&quot;CP&quot;</td><td>&quot;/league/nemelee/player/5247BCE…</td></tr><tr><td>&hellip;</td><td>&hellip;</td></tr><tr><td>&quot;Bmo&quot;</td><td>&quot;/league/nemelee/player/BCE94E8…</td></tr></tbody></table></div>"
      ],
      "text/plain": [
       "shape: (2_207, 2)\n",
       "┌─────┬─────────────────────────────────┐\n",
       "│ tag ┆ url                             │\n",
       "│ --- ┆ ---                             │\n",
       "│ str ┆ str                             │\n",
       "╞═════╪═════════════════════════════════╡\n",
       "│ CP  ┆ /league/nemelee/player/5247BCE… │\n",
       "│ …   ┆ …                               │\n",
       "│ Bmo ┆ /league/nemelee/player/BCE94E8… │\n",
       "└─────┴─────────────────────────────────┘"
      ]
     },
     "execution_count": 5,
     "metadata": {},
     "output_type": "execute_result"
    }
   ],
   "source": [
    "players = (\n",
    "    matches\n",
    "    .select(pl.col('winner').alias('tag'), pl.col('winner_url').alias('url'), 'tournament_date')\n",
    "    .vstack(\n",
    "        matches\n",
    "        .select(pl.col('loser').alias('tag'), pl.col('loser_url').alias('url'), 'tournament_date')\n",
    "    )\n",
    "    .unique()\n",
    "    .sort('tournament_date', descending=False)\n",
    "    .group_by('url')\n",
    "    .agg(pl.col('tag').mode().first())\n",
    "    .select('tag', 'url')\n",
    ")\n",
    "pl.Config(tbl_rows=2)\n",
    "players"
   ]
  },
  {
   "cell_type": "markdown",
   "id": "50ce59a7",
   "metadata": {},
   "source": [
    "# Calculate trueskill"
   ]
  },
  {
   "cell_type": "code",
   "execution_count": 6,
   "id": "b609f830",
   "metadata": {},
   "outputs": [
    {
     "data": {
      "text/html": [
       "<div><style>\n",
       ".dataframe > thead > tr,\n",
       ".dataframe > tbody > tr {\n",
       "  text-align: right;\n",
       "  white-space: pre-wrap;\n",
       "}\n",
       "</style>\n",
       "<small>shape: (43_617, 13)</small><table border=\"1\" class=\"dataframe\"><thead><tr><th>encounter_id</th><th>winner_url</th><th>winner</th><th>loser_url</th><th>loser</th><th>winner_score</th><th>loser_score</th><th>tournament_url</th><th>tournament_name</th><th>tournament_date</th><th>tournament_country</th><th>tournament_region</th><th>tournament_number_of_players</th></tr><tr><td>i64</td><td>str</td><td>str</td><td>str</td><td>str</td><td>i64</td><td>i64</td><td>str</td><td>str</td><td>str</td><td>str</td><td>str</td><td>str</td></tr></thead><tbody><tr><td>26</td><td>&quot;/league/nemelee/player/EAE5E0C…</td><td>&quot;Gobble Guts Aching Belly&quot;</td><td>&quot;/league/nemelee/player/3675716…</td><td>&quot;PSI&quot;</td><td>2</td><td>0</td><td>&quot;/tournament/14368246-4622-42D5…</td><td>&quot;New Game Plus Revival 5.6&quot;</td><td>&quot;2023-12-12&quot;</td><td>null</td><td>null</td><td>null</td></tr><tr><td>&hellip;</td><td>&hellip;</td><td>&hellip;</td><td>&hellip;</td><td>&hellip;</td><td>&hellip;</td><td>&hellip;</td><td>&hellip;</td><td>&hellip;</td><td>&hellip;</td><td>&hellip;</td><td>&hellip;</td><td>&hellip;</td></tr><tr><td>52</td><td>&quot;/league/nemelee/player/73AF50A…</td><td>&quot;Pizza&quot;</td><td>&quot;/league/nemelee/player/8782C1A…</td><td>&quot;Pooky&quot;</td><td>2</td><td>1</td><td>&quot;/tournament/669EFC77-6380-459E…</td><td>&quot;New Game Plus Revival 3.11&quot;</td><td>&quot;2022-12-13&quot;</td><td>null</td><td>null</td><td>null</td></tr></tbody></table></div>"
      ],
      "text/plain": [
       "shape: (43_617, 13)\n",
       "┌───────────┬───────────┬───────────┬───────────┬───┬───────────┬───────────┬───────────┬──────────┐\n",
       "│ encounter ┆ winner_ur ┆ winner    ┆ loser_url ┆ … ┆ tournamen ┆ tournamen ┆ tournamen ┆ tourname │\n",
       "│ _id       ┆ l         ┆ ---       ┆ ---       ┆   ┆ t_date    ┆ t_country ┆ t_region  ┆ nt_numbe │\n",
       "│ ---       ┆ ---       ┆ str       ┆ str       ┆   ┆ ---       ┆ ---       ┆ ---       ┆ r_of_pla │\n",
       "│ i64       ┆ str       ┆           ┆           ┆   ┆ str       ┆ str       ┆ str       ┆ yers     │\n",
       "│           ┆           ┆           ┆           ┆   ┆           ┆           ┆           ┆ ---      │\n",
       "│           ┆           ┆           ┆           ┆   ┆           ┆           ┆           ┆ str      │\n",
       "╞═══════════╪═══════════╪═══════════╪═══════════╪═══╪═══════════╪═══════════╪═══════════╪══════════╡\n",
       "│ 26        ┆ /league/n ┆ Gobble    ┆ /league/n ┆ … ┆ 2023-12-1 ┆ null      ┆ null      ┆ null     │\n",
       "│           ┆ emelee/pl ┆ Guts      ┆ emelee/pl ┆   ┆ 2         ┆           ┆           ┆          │\n",
       "│           ┆ ayer/EAE5 ┆ Aching    ┆ ayer/3675 ┆   ┆           ┆           ┆           ┆          │\n",
       "│           ┆ E0C…      ┆ Belly     ┆ 716…      ┆   ┆           ┆           ┆           ┆          │\n",
       "│ …         ┆ …         ┆ …         ┆ …         ┆ … ┆ …         ┆ …         ┆ …         ┆ …        │\n",
       "│ 52        ┆ /league/n ┆ Pizza     ┆ /league/n ┆ … ┆ 2022-12-1 ┆ null      ┆ null      ┆ null     │\n",
       "│           ┆ emelee/pl ┆           ┆ emelee/pl ┆   ┆ 3         ┆           ┆           ┆          │\n",
       "│           ┆ ayer/73AF ┆           ┆ ayer/8782 ┆   ┆           ┆           ┆           ┆          │\n",
       "│           ┆ 50A…      ┆           ┆ C1A…      ┆   ┆           ┆           ┆           ┆          │\n",
       "└───────────┴───────────┴───────────┴───────────┴───┴───────────┴───────────┴───────────┴──────────┘"
      ]
     },
     "execution_count": 6,
     "metadata": {},
     "output_type": "execute_result"
    }
   ],
   "source": [
    "pl.Config(tbl_rows=2)\n",
    "matches"
   ]
  },
  {
   "cell_type": "code",
   "execution_count": 7,
   "id": "313f2fe2",
   "metadata": {},
   "outputs": [],
   "source": [
    "players_dict = {}\n",
    "\n",
    "def rate_players(row: dict) -> dict:\n",
    "    # Create TrueSkill rating objects for the players\n",
    "    if players_dict.get(row['winner_url']) is None:\n",
    "        players_dict[row['winner_url']] = trueskill.Rating()\n",
    "    if players_dict.get(row['loser_url']) is None:\n",
    "        players_dict[row['loser_url']] = trueskill.Rating()\n",
    "\n",
    "    result = {\n",
    "        'winner_rating': players_dict[row['winner_url']],\n",
    "        'loser_rating': players_dict[row['loser_url']],\n",
    "    }\n",
    "\n",
    "    # Update the ratings based on the match outcome\n",
    "    new_winner_rating, new_loser_rating = trueskill.rate_1vs1(\n",
    "        players_dict[row['winner_url']], players_dict[row['loser_url']])\n",
    "    players_dict[row['winner_url']] = new_winner_rating\n",
    "    players_dict[row['loser_url']] = new_loser_rating\n",
    "\n",
    "    result.update({\n",
    "        'new_winner_rating': new_winner_rating,\n",
    "        'new_loser_rating': new_loser_rating,\n",
    "    })\n",
    "    return result"
   ]
  },
  {
   "cell_type": "code",
   "execution_count": 8,
   "id": "0f905b11",
   "metadata": {},
   "outputs": [],
   "source": [
    "players_dict = {}\n",
    "\n",
    "matches_with_ratings = matches.with_columns(\n",
    "    pl.struct(['winner_url', 'loser_url'])\n",
    "        .map_elements(rate_players, return_dtype=pl.Struct)\n",
    "        .alias('new_ratings')\n",
    ").unnest('new_ratings')"
   ]
  },
  {
   "cell_type": "markdown",
   "id": "d42b28a9",
   "metadata": {},
   "source": [
    "## 95 CI\n",
    "In TrueSkill, rating is a Gaussian distribution which starts from $\\mathcal{ N }( 25, \\frac{ 25 }{ 3 }^2 )$. $\\mu$ is an average skill of player, and $\\sigma$ is a confidence of the guessed rating. A real skill of player is between $\\mu \\pm 2\\sigma$ with 95% confidence."
   ]
  },
  {
   "cell_type": "code",
   "execution_count": 9,
   "id": "a207f364",
   "metadata": {},
   "outputs": [],
   "source": [
    "matches_with_ratings.write_csv('data/matches-with-ratings.csv')"
   ]
  },
  {
   "cell_type": "markdown",
   "id": "c37c93ce",
   "metadata": {},
   "source": [
    "## Export ranking"
   ]
  },
  {
   "cell_type": "code",
   "execution_count": 10,
   "id": "edf55749",
   "metadata": {},
   "outputs": [],
   "source": [
    "player_ratings = pl.DataFrame({\n",
    "    'url': [player_url for player_url in players_dict.keys()],\n",
    "    'rating': [rating for rating in players_dict.values()],\n",
    "})"
   ]
  },
  {
   "cell_type": "code",
   "execution_count": 12,
   "id": "452ce1ad",
   "metadata": {},
   "outputs": [
    {
     "data": {
      "text/html": [
       "<div><style>\n",
       ".dataframe > thead > tr,\n",
       ".dataframe > tbody > tr {\n",
       "  text-align: right;\n",
       "  white-space: pre-wrap;\n",
       "}\n",
       "</style>\n",
       "<small>shape: (2_206, 3)</small><table border=\"1\" class=\"dataframe\"><thead><tr><th>url</th><th>rating</th><th>tag</th></tr><tr><td>str</td><td>f64</td><td>str</td></tr></thead><tbody><tr><td>&quot;/league/nemelee/player/FDFA0C9…</td><td>48.661081</td><td>&quot;Nouns | Aklo&quot;</td></tr><tr><td>&quot;/league/nemelee/player/566A026…</td><td>47.277305</td><td>&quot;2saint&quot;</td></tr><tr><td>&quot;/league/nemelee/player/891E861…</td><td>46.804071</td><td>&quot;RedBull GG IFM | aMSa&quot;</td></tr><tr><td>&quot;/league/nemelee/player/726A52B…</td><td>45.391225</td><td>&quot;YAMI&quot;</td></tr><tr><td>&quot;/league/nemelee/player/37B3203…</td><td>45.220107</td><td>&quot;Spark&quot;</td></tr><tr><td>&quot;/league/nemelee/player/30D4C0A…</td><td>44.493222</td><td>&quot;PF | Mekk&quot;</td></tr><tr><td>&quot;/league/nemelee/player/C206957…</td><td>44.187066</td><td>&quot;MATE | Kalvar&quot;</td></tr><tr><td>&quot;/league/nemelee/player/EB30F2B…</td><td>44.108582</td><td>&quot;Inky&quot;</td></tr><tr><td>&quot;/league/nemelee/player/6B2BEB6…</td><td>44.054739</td><td>&quot;DrLobster&quot;</td></tr><tr><td>&quot;/league/nemelee/player/F7441D6…</td><td>43.926348</td><td>&quot;De_party | Epoodle&quot;</td></tr><tr><td>&quot;/league/nemelee/player/2F70A3C…</td><td>43.622602</td><td>&quot;TC | Zanya&quot;</td></tr><tr><td>&quot;/league/nemelee/player/B9BE39A…</td><td>43.51704</td><td>&quot;max&quot;</td></tr><tr><td>&quot;/league/nemelee/player/0ED0B11…</td><td>42.668195</td><td>&quot;Bekvin&quot;</td></tr><tr><td>&quot;/league/nemelee/player/D861C5C…</td><td>42.482672</td><td>&quot;PF | Warmmer&quot;</td></tr><tr><td>&quot;/league/nemelee/player/A30A6D5…</td><td>42.279337</td><td>&quot;Chem&quot;</td></tr><tr><td>&quot;/league/nemelee/player/37727CD…</td><td>42.226927</td><td>&quot;Chef Rach&quot;</td></tr><tr><td>&quot;/league/nemelee/player/27CF9E7…</td><td>42.223799</td><td>&quot;PSA | Kikoho&quot;</td></tr><tr><td>&quot;/league/nemelee/player/A00EEE3…</td><td>42.132163</td><td>&quot;Mot$&quot;</td></tr><tr><td>&quot;/league/nemelee/player/197387D…</td><td>41.948355</td><td>&quot;TLOC | Salt&quot;</td></tr><tr><td>&quot;/league/nemelee/player/738F1C1…</td><td>41.544079</td><td>&quot;essy&quot;</td></tr><tr><td>&quot;/league/nemelee/player/7BAB605…</td><td>41.421283</td><td>&quot;Squid&quot;</td></tr><tr><td>&quot;/league/nemelee/player/4C70D62…</td><td>41.354905</td><td>&quot;BLE | Dawson&quot;</td></tr><tr><td>&quot;/league/nemelee/player/4CA288E…</td><td>41.347459</td><td>&quot;ACE | Jflex&quot;</td></tr><tr><td>&quot;/league/nemelee/player/826813C…</td><td>41.213044</td><td>&quot;Zamu&quot;</td></tr><tr><td>&quot;/league/nemelee/player/787F4FD…</td><td>41.144451</td><td>&quot;Brotherhood | Foxy Grandpa&quot;</td></tr><tr><td>&hellip;</td><td>&hellip;</td><td>&hellip;</td></tr><tr><td>&quot;/league/nemelee/player/837D206…</td><td>8.333798</td><td>&quot;routuro&quot;</td></tr><tr><td>&quot;/league/nemelee/player/46746A7…</td><td>8.258633</td><td>&quot;Crazy&quot;</td></tr><tr><td>&quot;/league/nemelee/player/EBD4503…</td><td>8.103877</td><td>&quot;Sir Michael&quot;</td></tr><tr><td>&quot;/league/nemelee/player/02C70D6…</td><td>8.095148</td><td>&quot;Carls100&quot;</td></tr><tr><td>&quot;/league/nemelee/player/AEE5BDB…</td><td>8.017032</td><td>&quot;MonotoneCulprit&quot;</td></tr><tr><td>&quot;/league/nemelee/player/BFA3CBC…</td><td>7.964431</td><td>&quot;corvo&quot;</td></tr><tr><td>&quot;/league/nemelee/player/A911B4C…</td><td>7.86461</td><td>&quot;HELP! | Fin&quot;</td></tr><tr><td>&quot;/league/nemelee/player/DA8A79E…</td><td>7.838935</td><td>&quot;Feed&quot;</td></tr><tr><td>&quot;/league/nemelee/player/4EFF18B…</td><td>7.702276</td><td>&quot;Aeacus&quot;</td></tr><tr><td>&quot;/league/nemelee/player/B685953…</td><td>7.373558</td><td>&quot;ShnooksNcookS&quot;</td></tr><tr><td>&quot;/league/nemelee/player/2BC9EDC…</td><td>7.366246</td><td>&quot;RNBW | Dorothy&quot;</td></tr><tr><td>&quot;/league/nemelee/player/DF78D17…</td><td>7.332457</td><td>&quot;Julia&quot;</td></tr><tr><td>&quot;/league/nemelee/player/06139B8…</td><td>7.326508</td><td>&quot;Skel&quot;</td></tr><tr><td>&quot;/league/nemelee/player/EC56A2A…</td><td>7.277814</td><td>&quot;N0va | Breathlessx22&quot;</td></tr><tr><td>&quot;/league/nemelee/player/7093E8E…</td><td>7.197211</td><td>&quot;LiquidLlama&quot;</td></tr><tr><td>&quot;/league/nemelee/player/137F117…</td><td>7.026063</td><td>&quot;crash0ut | StarDestiny34&quot;</td></tr><tr><td>&quot;/league/nemelee/player/6C5E498…</td><td>6.865913</td><td>&quot;eemee&quot;</td></tr><tr><td>&quot;/league/nemelee/player/1DBAAA1…</td><td>6.850251</td><td>&quot;JoeNut&quot;</td></tr><tr><td>&quot;/league/nemelee/player/3372A46…</td><td>6.638354</td><td>&quot;Julzz&quot;</td></tr><tr><td>&quot;/league/nemelee/player/40F574E…</td><td>6.385279</td><td>&quot;PLAID&quot;</td></tr><tr><td>&quot;/league/nemelee/player/FF81A85…</td><td>6.184296</td><td>&quot;ZeperTheStar&quot;</td></tr><tr><td>&quot;/league/nemelee/player/A4AB22F…</td><td>6.06759</td><td>&quot;RosieCo | Pure&quot;</td></tr><tr><td>&quot;/league/nemelee/player/3691AF4…</td><td>5.984265</td><td>&quot;TD | U4iK&quot;</td></tr><tr><td>&quot;/league/nemelee/player/D4EF54C…</td><td>4.615345</td><td>&quot;Cryonova&quot;</td></tr><tr><td>&quot;/league/nemelee/player/D88C9BF…</td><td>3.278385</td><td>&quot;IDGM&quot;</td></tr></tbody></table></div>"
      ],
      "text/plain": [
       "shape: (2_206, 3)\n",
       "┌─────────────────────────────────┬───────────┬────────────────────────────┐\n",
       "│ url                             ┆ rating    ┆ tag                        │\n",
       "│ ---                             ┆ ---       ┆ ---                        │\n",
       "│ str                             ┆ f64       ┆ str                        │\n",
       "╞═════════════════════════════════╪═══════════╪════════════════════════════╡\n",
       "│ /league/nemelee/player/FDFA0C9… ┆ 48.661081 ┆ Nouns | Aklo               │\n",
       "│ /league/nemelee/player/566A026… ┆ 47.277305 ┆ 2saint                     │\n",
       "│ /league/nemelee/player/891E861… ┆ 46.804071 ┆ RedBull GG IFM | aMSa      │\n",
       "│ /league/nemelee/player/726A52B… ┆ 45.391225 ┆ YAMI                       │\n",
       "│ /league/nemelee/player/37B3203… ┆ 45.220107 ┆ Spark                      │\n",
       "│ /league/nemelee/player/30D4C0A… ┆ 44.493222 ┆ PF | Mekk                  │\n",
       "│ /league/nemelee/player/C206957… ┆ 44.187066 ┆ MATE | Kalvar              │\n",
       "│ /league/nemelee/player/EB30F2B… ┆ 44.108582 ┆ Inky                       │\n",
       "│ /league/nemelee/player/6B2BEB6… ┆ 44.054739 ┆ DrLobster                  │\n",
       "│ /league/nemelee/player/F7441D6… ┆ 43.926348 ┆ De_party | Epoodle         │\n",
       "│ /league/nemelee/player/2F70A3C… ┆ 43.622602 ┆ TC | Zanya                 │\n",
       "│ /league/nemelee/player/B9BE39A… ┆ 43.51704  ┆ max                        │\n",
       "│ /league/nemelee/player/0ED0B11… ┆ 42.668195 ┆ Bekvin                     │\n",
       "│ /league/nemelee/player/D861C5C… ┆ 42.482672 ┆ PF | Warmmer               │\n",
       "│ /league/nemelee/player/A30A6D5… ┆ 42.279337 ┆ Chem                       │\n",
       "│ /league/nemelee/player/37727CD… ┆ 42.226927 ┆ Chef Rach                  │\n",
       "│ /league/nemelee/player/27CF9E7… ┆ 42.223799 ┆ PSA | Kikoho               │\n",
       "│ /league/nemelee/player/A00EEE3… ┆ 42.132163 ┆ Mot$                       │\n",
       "│ /league/nemelee/player/197387D… ┆ 41.948355 ┆ TLOC | Salt                │\n",
       "│ /league/nemelee/player/738F1C1… ┆ 41.544079 ┆ essy                       │\n",
       "│ /league/nemelee/player/7BAB605… ┆ 41.421283 ┆ Squid                      │\n",
       "│ /league/nemelee/player/4C70D62… ┆ 41.354905 ┆ BLE | Dawson               │\n",
       "│ /league/nemelee/player/4CA288E… ┆ 41.347459 ┆ ACE | Jflex                │\n",
       "│ /league/nemelee/player/826813C… ┆ 41.213044 ┆ Zamu                       │\n",
       "│ /league/nemelee/player/787F4FD… ┆ 41.144451 ┆ Brotherhood | Foxy Grandpa │\n",
       "│ …                               ┆ …         ┆ …                          │\n",
       "│ /league/nemelee/player/837D206… ┆ 8.333798  ┆ routuro                    │\n",
       "│ /league/nemelee/player/46746A7… ┆ 8.258633  ┆ Crazy                      │\n",
       "│ /league/nemelee/player/EBD4503… ┆ 8.103877  ┆ Sir Michael                │\n",
       "│ /league/nemelee/player/02C70D6… ┆ 8.095148  ┆ Carls100                   │\n",
       "│ /league/nemelee/player/AEE5BDB… ┆ 8.017032  ┆ MonotoneCulprit            │\n",
       "│ /league/nemelee/player/BFA3CBC… ┆ 7.964431  ┆ corvo                      │\n",
       "│ /league/nemelee/player/A911B4C… ┆ 7.86461   ┆ HELP! | Fin                │\n",
       "│ /league/nemelee/player/DA8A79E… ┆ 7.838935  ┆ Feed                       │\n",
       "│ /league/nemelee/player/4EFF18B… ┆ 7.702276  ┆ Aeacus                     │\n",
       "│ /league/nemelee/player/B685953… ┆ 7.373558  ┆ ShnooksNcookS              │\n",
       "│ /league/nemelee/player/2BC9EDC… ┆ 7.366246  ┆ RNBW | Dorothy             │\n",
       "│ /league/nemelee/player/DF78D17… ┆ 7.332457  ┆ Julia                      │\n",
       "│ /league/nemelee/player/06139B8… ┆ 7.326508  ┆ Skel                       │\n",
       "│ /league/nemelee/player/EC56A2A… ┆ 7.277814  ┆ N0va | Breathlessx22       │\n",
       "│ /league/nemelee/player/7093E8E… ┆ 7.197211  ┆ LiquidLlama                │\n",
       "│ /league/nemelee/player/137F117… ┆ 7.026063  ┆ crash0ut | StarDestiny34   │\n",
       "│ /league/nemelee/player/6C5E498… ┆ 6.865913  ┆ eemee                      │\n",
       "│ /league/nemelee/player/1DBAAA1… ┆ 6.850251  ┆ JoeNut                     │\n",
       "│ /league/nemelee/player/3372A46… ┆ 6.638354  ┆ Julzz                      │\n",
       "│ /league/nemelee/player/40F574E… ┆ 6.385279  ┆ PLAID                      │\n",
       "│ /league/nemelee/player/FF81A85… ┆ 6.184296  ┆ ZeperTheStar               │\n",
       "│ /league/nemelee/player/A4AB22F… ┆ 6.06759   ┆ RosieCo | Pure             │\n",
       "│ /league/nemelee/player/3691AF4… ┆ 5.984265  ┆ TD | U4iK                  │\n",
       "│ /league/nemelee/player/D4EF54C… ┆ 4.615345  ┆ Cryonova                   │\n",
       "│ /league/nemelee/player/D88C9BF… ┆ 3.278385  ┆ IDGM                       │\n",
       "└─────────────────────────────────┴───────────┴────────────────────────────┘"
      ]
     },
     "execution_count": 12,
     "metadata": {},
     "output_type": "execute_result"
    }
   ],
   "source": [
    "pl.Config(tbl_rows=50)\n",
    "player_ratings.join(players, on='url').sort('rating', descending=True)"
   ]
  },
  {
   "cell_type": "code",
   "execution_count": null,
   "id": "d99e32cb",
   "metadata": {},
   "outputs": [],
   "source": []
  }
 ],
 "metadata": {
  "kernelspec": {
   "display_name": "braacket-scraper",
   "language": "python",
   "name": "python3"
  },
  "language_info": {
   "codemirror_mode": {
    "name": "ipython",
    "version": 3
   },
   "file_extension": ".py",
   "mimetype": "text/x-python",
   "name": "python",
   "nbconvert_exporter": "python",
   "pygments_lexer": "ipython3",
   "version": "3.13.2"
  }
 },
 "nbformat": 4,
 "nbformat_minor": 5
}
