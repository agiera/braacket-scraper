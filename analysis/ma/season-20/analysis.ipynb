{
 "cells": [
  {
   "cell_type": "markdown",
   "metadata": {},
   "source": []
  },
  {
   "cell_type": "code",
   "execution_count": 57,
   "metadata": {},
   "outputs": [],
   "source": [
    "import ipywidgets as widgets\n",
    "import polars as pl\n",
    "import trueskill"
   ]
  },
  {
   "cell_type": "code",
   "execution_count": 58,
   "metadata": {},
   "outputs": [],
   "source": [
    "season_start = '2024-11-03'\n",
    "season_end = '2025-04-19'"
   ]
  },
  {
   "cell_type": "code",
   "execution_count": 59,
   "metadata": {},
   "outputs": [],
   "source": [
    "candidates = pl.DataFrame([\n",
    "    [\"/league/nemelee/player/97D40D09-E9DF-468E-B90B-DD42CA8FA878?\", \"Younger\"],\n",
    "    [\"/league/nemelee/player/583438BD-F9A1-413A-8F77-DEF3820143F0?\", \"N0va | hc | Coolslice\"],\n",
    "    [\"/league/nemelee/player/BAB54F38-444F-4ADE-8D79-EC7D232D90E9?\", \"OUG | Electroman\"],\n",
    "    [\"/league/nemelee/player/1D8B9E33-86AE-45FB-89E9-0CB158C24FD3?\", \"regEx\"],\n",
    "    [\"/league/nemelee/player/39E544D6-60EC-4243-829E-C0E017FD58DC?\", \"s6 | shmeeli\"],\n",
    "    [\"/league/nemelee/player/0267F6B4-223B-4D0D-B0AB-3B7084B37AB7?\", \"Greenstach\"],\n",
    "    [\"/league/nemelee/player/EAE5E0CC-99FF-49EB-8424-142348454761?\", \"Comcast | The CoveCare Scare\"],\n",
    "    [\"/league/nemelee/player/E85EE0F4-C335-4A1C-A569-BE69C1675BAA?\", \"$G|MP | Bank\"],\n",
    "    [\"/league/nemelee/player/2407F41F-64A0-43AF-85F1-96F6985E57EE?\", \"hc | saucymain\"],\n",
    "    [\"/league/nemelee/player/5CD3DDFC-6380-4395-8DF7-590D498437E2?\", \"Future Shock\"],\n",
    "    [\"/league/nemelee/player/D3B00EC5-2479-4E29-8FBE-32DEEFFD23D2?\", \"Nage\"],\n",
    "    [\"/league/nemelee/player/5DBCC342-92B6-40C6-AFBF-66933EF41379?\", \"Ant\"],\n",
    "    [\"/league/nemelee/player/11CA20C1-5FDF-4A64-BC6C-0B5B91497FE7?\", \"MATE | 22K\"],\n",
    "    [\"/league/nemelee/player/FA73F3AA-3D89-4584-A3D3-3E44E4B61180?\", \"Rat Rattington\"],\n",
    "    [\"/league/nemelee/player/17A43CB7-E905-4A9A-A69A-55CC66EE929E?\", \"Bin/BTR | Yousef\"],\n",
    "    [\"/league/nemelee/player/0CDB11B1-BCC3-4027-90F2-D74F1A9A5668?\", \"hc | kraft\"],\n",
    "], orient=\"row\", schema=[\"url\", \"tag\"])"
   ]
  },
  {
   "cell_type": "code",
   "execution_count": 60,
   "metadata": {},
   "outputs": [],
   "source": [
    "candidate_urls = candidates.select('url').to_series().to_list()"
   ]
  },
  {
   "cell_type": "markdown",
   "metadata": {},
   "source": [
    "\n",
    "# Load Data"
   ]
  },
  {
   "cell_type": "code",
   "execution_count": 61,
   "metadata": {},
   "outputs": [],
   "source": [
    "matches = pl.read_csv(\"../../../data/matches.csv\")\n",
    "season_matches = (\n",
    "    matches\n",
    "    .filter(pl.col('tournament_date') >= season_start)\n",
    "    .filter(pl.col('tournament_date') <= season_end)\n",
    ")"
   ]
  },
  {
   "cell_type": "code",
   "execution_count": 72,
   "metadata": {},
   "outputs": [],
   "source": [
    "players = pl.read_csv(\"../../../data/players.csv\")"
   ]
  },
  {
   "cell_type": "code",
   "execution_count": 73,
   "metadata": {},
   "outputs": [],
   "source": [
    "players_dict = {}\n",
    "\n",
    "def rate_players(row: dict) -> dict:\n",
    "    # Create TrueSkill rating objects for the players\n",
    "    if players_dict.get(row['winner_url']) is None:\n",
    "        players_dict[row['winner_url']] = trueskill.Rating()\n",
    "    if players_dict.get(row['loser_url']) is None:\n",
    "        players_dict[row['loser_url']] = trueskill.Rating()\n",
    "\n",
    "    result = {\n",
    "        'winner_rating': players_dict[row['winner_url']],\n",
    "        'loser_rating': players_dict[row['loser_url']],\n",
    "    }\n",
    "\n",
    "    # Update the ratings based on the match outcome\n",
    "    new_winner_rating, new_loser_rating = trueskill.rate_1vs1(\n",
    "        players_dict[row['winner_url']], players_dict[row['loser_url']])\n",
    "    players_dict[row['winner_url']] = new_winner_rating\n",
    "    players_dict[row['loser_url']] = new_loser_rating\n",
    "\n",
    "    result.update({\n",
    "        'new_winner_rating': new_winner_rating,\n",
    "        'new_loser_rating': new_loser_rating,\n",
    "    })\n",
    "    return result"
   ]
  },
  {
   "cell_type": "code",
   "execution_count": 74,
   "metadata": {},
   "outputs": [],
   "source": [
    "players_dict = {}\n",
    "\n",
    "matches_with_ratings = season_matches.with_columns(\n",
    "    pl.struct(['winner_url', 'loser_url'])\n",
    "        .map_elements(rate_players, return_dtype=pl.Struct)\n",
    "        .alias('new_ratings')\n",
    ").unnest('new_ratings')"
   ]
  },
  {
   "cell_type": "code",
   "execution_count": 75,
   "metadata": {},
   "outputs": [
    {
     "data": {
      "text/plain": [
       "1.0723709081628914"
      ]
     },
     "execution_count": 75,
     "metadata": {},
     "output_type": "execute_result"
    }
   ],
   "source": [
    "rating = list(players_dict.values())[0]\n",
    "rating.sigma"
   ]
  },
  {
   "cell_type": "code",
   "execution_count": 76,
   "metadata": {},
   "outputs": [],
   "source": [
    "player_ratings = pl.DataFrame({\n",
    "    'url': [player_url for player_url in players_dict.keys()],\n",
    "    'rating': [rating.mu for rating in players_dict.values()],\n",
    "    'rating_95ci_lower': [rating.mu - 2*rating.sigma for rating in players_dict.values()],\n",
    "    'rating_95ci_upper': [rating.mu + 2*rating.sigma for rating in players_dict.values()],\n",
    "    'sigma': [rating.sigma for rating in players_dict.values()],\n",
    "    'pi': [rating.pi for rating in players_dict.values()],\n",
    "    'tau': [rating.tau for rating in players_dict.values()],\n",
    "    'exposure': [rating.exposure for rating in players_dict.values()],\n",
    "}).join(players, on='url').sort('rating', descending=True)"
   ]
  },
  {
   "cell_type": "code",
   "execution_count": 77,
   "metadata": {},
   "outputs": [],
   "source": [
    "matches_with_difference = (\n",
    "    matches_with_ratings\n",
    "    .join(player_ratings.select('url', pl.col('rating').alias('winner_final_rating')), left_on='winner_url', right_on='url')\n",
    "    .join(player_ratings.select('url', pl.col('rating').alias('loser_final_rating')), left_on='loser_url', right_on='url')\n",
    "    .with_columns((pl.col('winner_final_rating') - pl.col('loser_final_rating')).alias('final_rating_difference'))\n",
    "    .select('winner_url', 'winner', 'winner_final_rating', 'loser_url', 'loser', 'loser_final_rating', 'final_rating_difference')\n",
    ")"
   ]
  },
  {
   "cell_type": "markdown",
   "metadata": {},
   "source": [
    "# Match Analysis\n"
   ]
  },
  {
   "cell_type": "markdown",
   "metadata": {},
   "source": [
    "If some player's rating is higher $\\beta$ than another player's, the player may have about a 76% (specifically $\\Phi(\\frac {1}{\\sqrt{2}}))$ chance to beat the other player. The default value of $\\beta$ is $\\frac{ 25 }{ 6 }$."
   ]
  },
  {
   "cell_type": "markdown",
   "metadata": {},
   "source": [
    "## Wins in order of rating difference"
   ]
  },
  {
   "cell_type": "code",
   "execution_count": 78,
   "metadata": {},
   "outputs": [],
   "source": [
    "def best_wins(matches: pl.DataFrame, player_url: str) -> pl.DataFrame:\n",
    "    return (\n",
    "        matches\n",
    "        .filter(pl.col('winner_url').str.contains(player_url))\n",
    "        .sort('final_rating_difference')\n",
    "        .select(pl.exclude(r'^.*url$'))\n",
    "        .select(pl.exclude(r'^winner.*$'))\n",
    "        .head(100)\n",
    "    )"
   ]
  },
  {
   "cell_type": "markdown",
   "metadata": {},
   "source": [
    "## Losses in order of rating difference"
   ]
  },
  {
   "cell_type": "code",
   "execution_count": 79,
   "metadata": {},
   "outputs": [],
   "source": [
    "def worst_losses(matches: pl.DataFrame, player_url: str) -> pl.DataFrame:\n",
    "    return (\n",
    "        matches\n",
    "        .filter(pl.col('loser_url').str.contains(player_url))\n",
    "        .select(pl.exclude(r'^.*url$'))\n",
    "        .select(pl.exclude(r'^loser.*$'))\n",
    "        .sort('final_rating_difference')\n",
    "    )"
   ]
  },
  {
   "cell_type": "code",
   "execution_count": 80,
   "metadata": {},
   "outputs": [],
   "source": [
    "def compare_players(matches: pl.DataFrame, player1: str, player2: str) -> pl.DataFrame:\n",
    "    output1 = widgets.Output()\n",
    "    output2 = widgets.Output()\n",
    "    output3 = widgets.Output()\n",
    "    output4 = widgets.Output()\n",
    "\n",
    "    with output1:\n",
    "        display(best_wins(matches, player1))\n",
    "    with output2:\n",
    "        display(best_wins(matches, player2))\n",
    "    with output3:\n",
    "        display(worst_losses(matches, player1))\n",
    "    with output4:\n",
    "        display(worst_losses(matches, player2))\n",
    "\n",
    "    win_columns = widgets.HBox([output1, output2])\n",
    "    loss_columns = widgets.HBox([output3, output4])\n",
    "    final_output = widgets.VBox([win_columns, loss_columns])\n",
    "\n",
    "    display(final_output)"
   ]
  },
  {
   "cell_type": "code",
   "execution_count": 82,
   "metadata": {},
   "outputs": [
    {
     "data": {
      "application/vnd.jupyter.widget-view+json": {
       "model_id": "3852f70091a34e2a906a3ae360471e86",
       "version_major": 2,
       "version_minor": 0
      },
      "text/plain": [
       "VBox(children=(HBox(children=(Output(), Output())), HBox(children=(Output(), Output()))))"
      ]
     },
     "metadata": {},
     "output_type": "display_data"
    }
   ],
   "source": [
    "pl.Config(tbl_rows=100)\n",
    "compare_players(matches_with_difference, candidate_urls[9], candidate_urls[10])"
   ]
  },
  {
   "cell_type": "code",
   "execution_count": null,
   "metadata": {},
   "outputs": [],
   "source": []
  }
 ],
 "metadata": {
  "kernelspec": {
   "display_name": "braacket-scraper",
   "language": "python",
   "name": "python3"
  },
  "language_info": {
   "codemirror_mode": {
    "name": "ipython",
    "version": 3
   },
   "file_extension": ".py",
   "mimetype": "text/x-python",
   "name": "python",
   "nbconvert_exporter": "python",
   "pygments_lexer": "ipython3",
   "version": "3.13.2"
  }
 },
 "nbformat": 4,
 "nbformat_minor": 2
}
