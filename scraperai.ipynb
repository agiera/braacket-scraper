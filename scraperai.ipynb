{
 "cells": [
  {
   "cell_type": "markdown",
   "metadata": {},
   "source": []
  },
  {
   "cell_type": "code",
   "execution_count": 32,
   "metadata": {},
   "outputs": [],
   "source": [
    "import os\n",
    "import json\n",
    "\n",
    "import scrapegraphai"
   ]
  },
  {
   "cell_type": "code",
   "execution_count": 2,
   "metadata": {},
   "outputs": [],
   "source": [
    "# This is a workaround for the issue with Jupyter notebooks and asyncio\n",
    "import nest_asyncio\n",
    "nest_asyncio.apply()"
   ]
  },
  {
   "cell_type": "code",
   "execution_count": 3,
   "metadata": {},
   "outputs": [
    {
     "data": {
      "text/plain": [
       "''"
      ]
     },
     "execution_count": 3,
     "metadata": {},
     "output_type": "execute_result"
    }
   ],
   "source": [
    "import dotenv\n",
    "\n",
    "dotenv.find_dotenv()"
   ]
  },
  {
   "cell_type": "code",
   "execution_count": null,
   "metadata": {},
   "outputs": [],
   "source": [
    "graph_config = {\n",
    "    \"provider\": \"openai\",\n",
    "    \"output\": \"python\",\n",
    "    \"llm\": {\n",
    "        \"model\": \"gpt-3.5-turbo\",\n",
    "        \"api_key\": os.getenv(\"OPENAI_API_KEY\"),\n",
    "    },\n",
    "    \"library\": \"BeautifulSoup\",\n",
    "}"
   ]
  },
  {
   "cell_type": "code",
   "execution_count": 28,
   "metadata": {},
   "outputs": [],
   "source": [
    "graph_config = {\n",
    "    \"output\": \"python\",\n",
    "    \"provider\": \"ollama\",\n",
    "    \"llm\": {\n",
    "        \"model\": \"ollama/mistral\",\n",
    "        \"temperature\": 0,\n",
    "        \"format\": \"json\",  # Ollama needs the format to be specified explicitly\n",
    "        \"base_url\": \"http://localhost:11434\",  # set Ollama URL\n",
    "    },\n",
    "    \"embeddings\": {\n",
    "        \"model\": \"ollama/nomic-embed-text\",\n",
    "        \"base_url\": \"http://localhost:11434\",  # set Ollama URL\n",
    "    },\n",
    "    \"library\": \"BeautifulSoup\",\n",
    "}"
   ]
  },
  {
   "cell_type": "code",
   "execution_count": 42,
   "metadata": {},
   "outputs": [
    {
     "name": "stdout",
     "output_type": "stream",
     "text": [
      "{}\n"
     ]
    }
   ],
   "source": [
    "# Define the prompt, source, and configuration\n",
    "prompt = \"Iterate through each tournament in the source and extract the following fields: id, url, name, date, country, region, and number of players. Return the data as a list of dictionaries.\"\n",
    "source = \"https://braacket.com/league/nemelee/tournament?rows=20\"\n",
    "\n",
    "# Create the script creator graph\n",
    "script_creator = scrapegraphai.graphs.ScriptCreatorMultiGraph(prompt, source, graph_config)\n",
    "\n",
    "result = script_creator.run()\n",
    "print(result)"
   ]
  },
  {
   "cell_type": "code",
   "execution_count": 43,
   "metadata": {},
   "outputs": [
    {
     "name": "stdout",
     "output_type": "stream",
     "text": [
      "url = 'SOURCE_URL'\n",
      "response = requests.get(url)\n",
      "soup = BeautifulSoup(response.content, 'html.parser')\n",
      "tournaments = []\n",
      "tournament_tags = soup.find_all('TAG_FOR_TOURNAMENT')\n",
      "for tournament_tag in tournament_tags:\n",
      "data = {\n",
      "'id': tournament_tag['ID_ATTRIBUTE'],\n",
      "'url': tournament_tag['URL_ATTRIBUTE'],\n",
      "'name': tournament_tag.find('NAME_TAG').text.strip(),\n",
      "'date': tournament_tag.find('DATE_TAG').text.strip(),\n",
      "'country': tournament_tag.find('COUNTRY_TAG').text.strip(),\n",
      "'region': tournament_tag.find('REGION_TAG').text.strip(),\n",
      "'number_of_players': int(tournament_tag.find('NUMBER_OF_PLAYERS_TAG').text.strip())\n",
      "}\n",
      "tournaments.append(data)\n",
      "return json.dumps(tournaments, indent=4)\n",
      "}\n"
     ]
    }
   ],
   "source": [
    "script_json = json.loads(script_creator.final_state['scripts'][0])\n",
    "script_str = '\\n'.join(script_json['main'])\n",
    "print(script_str)"
   ]
  },
  {
   "cell_type": "code",
   "execution_count": 44,
   "metadata": {},
   "outputs": [
    {
     "name": "stdout",
     "output_type": "stream",
     "text": [
      "{\"script\": [\n",
      "      {\n",
      "         \"url\": \"https://example.com/tournament\",\n",
      "         \"method\": \"GET\",\n",
      "         \"data\": {},\n",
      "         \"response_type\": \"json\"\n",
      "      },\n",
      "      {\n",
      "         \"url\": \"{tournament_url}/match\",\n",
      "         \"method\": \"GET\",\n",
      "         \"params\": {\"tournament_url\": \"{tournament['url']}\"},\n",
      "         \"data\": {},\n",
      "         \"response_type\": \"json\"\n",
      "      },\n",
      "      {\n",
      "         \"url\": \"{match_url}/stage\",\n",
      "         \"method\": \"GET\",\n",
      "         \"params\": {\"match_url\": \"{match['url']}\"},\n",
      "         \"data\": {},\n",
      "         \"response_type\": \"json\"\n",
      "      },\n",
      "      {\n",
      "         \"script\": [\n",
      "            \"const data = []\",\n",
      "            \"for (let tournament of tournaments)\",\n",
      "            \"  for (let match of tournament.matches)\",\n",
      "            \"    for (let stage of match.stages)\",\n",
      "            \"      const winner_id = stage.winner_id\",\n",
      "            \"      const loser_id = stage.loser_id\",\n",
      "            \"      const winner = stage.winner\",\n",
      "            \"      const loser = stage.loser\",\n",
      "            \"      const winner_score = stage.winner_score\",\n",
      "            \"      const loser_score = stage.loser_score\",\n",
      "            \"      const stage_id = stage.stage_id\",\n",
      "            \"      const stage_name = stage.stage_name\",\n",
      "            \"      const tournament_id = tournament.tournament_id\",\n",
      "            \"      data.push({'winner_id': winner_id, 'winner': winner, 'loser_id': loser_id, 'loser': loser, 'winner_score': winner_score, 'loser_score': loser_score, 'stage_id': stage_id, 'stage_name': stage_name, 'tournament_id': tournament_id})\",\n",
      "            \"return JSON.stringify(data)\"\n",
      "         ],\n",
      "         \"url\": \"{base_url}/results\"\n",
      "      }\n",
      "   ]}\n"
     ]
    }
   ],
   "source": [
    "# Define the prompt, source, and configuration\n",
    "prompt = \"Iterate through each tournament in the source. For each tournament go to the tournament page. Then go to the mateches detail. In the matches detail page go to each stage. On a stage page extract the following fields: winner_id, winner, loser_id, loser, winner_score, loser_score, stage_id, stage_name, tournament_id. Return the data as a list of dictionaries.\"\n",
    "source = \"https://braacket.com/league/nemelee/tournament?rows=200\"\n",
    "\n",
    "# Create the script creator graph\n",
    "script_creator = scrapegraphai.graphs.ScriptCreatorMultiGraph(prompt, source, graph_config)\n",
    "\n",
    "result = script_creator.run()\n",
    "print(result)"
   ]
  },
  {
   "cell_type": "code",
   "execution_count": 45,
   "metadata": {},
   "outputs": [
    {
     "name": "stdout",
     "output_type": "stream",
     "text": [
      "url = 'SOURCE_URL'\n",
      "soup = BeautifulSoup(requests.get(url).content, 'html.parser')\n",
      "tournaments = soup.find_all('selector_for_tournament')\n",
      "data = []\n",
      "for tournament in tournaments:\n",
      "tournament_url = tournament['attribute_with_url']\n",
      "tournament_soup = BeautifulSoup(requests.get(tournament_url).content, 'html.parser')\n",
      "matches = tournament_soup.find_all('selector_for_match')\n",
      "for match in matches:\n",
      "match_url = match['attribute_with_url']\n",
      "match_soup = BeautifulSoup(requests.get(match_url).content, 'html.parser')\n",
      "stages = match_soup.find_all('selector_for_stage')\n",
      "for stage in stages:\n",
      "winner_id = stage['attribute_with_winner_id']\n",
      "winner = stage['attribute_with_winner']\n",
      "loser_id = stage['attribute_with_loser_id']\n",
      "loser = stage['attribute_with_loser']\n",
      "winner_score = stage['attribute_with_winner_score']\n",
      "loser_score = stage['attribute_with_loser_score']\n",
      "stage_id = stage['attribute_with_stage_id']\n",
      "stage_name = stage['attribute_with_stage_name']\n",
      "tournament_id = stage['attribute_with_tournament_id']\n",
      "data.append({'winner_id': winner_id, 'winner': winner, 'loser_id': loser_id, 'loser': loser, 'winner_score': winner_score, 'loser_score': loser_score, 'stage_id': stage_id, 'stage_name': stage_name, 'tournament_id': tournament_id})\n",
      "return json.dumps(data)\n",
      "}\n"
     ]
    }
   ],
   "source": [
    "script_json = json.loads(script_creator.final_state['scripts'][0])\n",
    "script_str = '\\n'.join(script_json['main'])\n",
    "print(script_str)"
   ]
  }
 ],
 "metadata": {
  "kernelspec": {
   "display_name": "braacket-scraper",
   "language": "python",
   "name": "python3"
  },
  "language_info": {
   "codemirror_mode": {
    "name": "ipython",
    "version": 3
   },
   "file_extension": ".py",
   "mimetype": "text/x-python",
   "name": "python",
   "nbconvert_exporter": "python",
   "pygments_lexer": "ipython3",
   "version": "3.13.3"
  }
 },
 "nbformat": 4,
 "nbformat_minor": 2
}
