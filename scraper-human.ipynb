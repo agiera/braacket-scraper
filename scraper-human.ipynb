{
 "cells": [
  {
   "cell_type": "markdown",
   "id": "a840a928",
   "metadata": {},
   "source": [
    "# Scrape"
   ]
  },
  {
   "cell_type": "code",
   "execution_count": 1,
   "id": "28fe9894",
   "metadata": {},
   "outputs": [],
   "source": [
    "from bs4 import BeautifulSoup\n",
    "import requests\n",
    "import polars as pl\n",
    "import re\n",
    "\n",
    "nemelee_tournaments_url = 'https://braacket.com/league/nemelee/tournament?rows=200'"
   ]
  },
  {
   "cell_type": "markdown",
   "id": "512c560b",
   "metadata": {},
   "source": [
    "# Define scraper components"
   ]
  },
  {
   "cell_type": "code",
   "execution_count": 2,
   "id": "1db959cd",
   "metadata": {},
   "outputs": [],
   "source": [
    "def scrape_tournament_tags(url):\n",
    "    response = requests.get(url)\n",
    "    tournament_soup = BeautifulSoup(response.content, 'html.parser')\n",
    "    num_pages = (\n",
    "        tournament_soup\n",
    "        .find(class_='search-pagination')\n",
    "        .find_all(class_='input-group-addon')[-1]\n",
    "        .text.split(' ')[-1].strip()\n",
    "    )\n",
    "\n",
    "    tournament_tags = []\n",
    "    for i in range(1, int(num_pages) + 1):\n",
    "        url = f'{nemelee_tournaments_url}&page={i}'\n",
    "        response = requests.get(url)\n",
    "        tournament_soup = BeautifulSoup(response.content, 'html.parser')\n",
    "        tournament_tags += list(\n",
    "            map(\n",
    "                lambda x: x.find_parent(class_='panel'),\n",
    "                tournament_soup.find_all(string='Detail')\n",
    "            )\n",
    "        )\n",
    "    return tournament_tags\n",
    "\n",
    "tournament_tags = scrape_tournament_tags(nemelee_tournaments_url)"
   ]
  },
  {
   "cell_type": "code",
   "execution_count": 3,
   "id": "585baa7b",
   "metadata": {},
   "outputs": [
    {
     "data": {
      "text/plain": [
       "'/assets/images/country/flag/us.png'"
      ]
     },
     "execution_count": 3,
     "metadata": {},
     "output_type": "execute_result"
    }
   ],
   "source": [
    "tournament_tags[0].find(class_='country_flag').find('img').get('src', None)"
   ]
  },
  {
   "cell_type": "code",
   "execution_count": 4,
   "id": "26eb8e4f",
   "metadata": {},
   "outputs": [
    {
     "data": {
      "text/html": [
       "<div><style>\n",
       ".dataframe > thead > tr,\n",
       ".dataframe > tbody > tr {\n",
       "  text-align: right;\n",
       "  white-space: pre-wrap;\n",
       "}\n",
       "</style>\n",
       "<small>shape: (2_739, 6)</small><table border=\"1\" class=\"dataframe\"><thead><tr><th>url</th><th>name</th><th>date</th><th>country</th><th>region</th><th>number_of_players</th></tr><tr><td>str</td><td>str</td><td>str</td><td>str</td><td>str</td><td>str</td></tr></thead><tbody><tr><td>&quot;/tournament/633C3E6E-A97A-45F9…</td><td>&quot;Mass Madness 50 - 10th Anniver…</td><td>&quot;03 May 2025&quot;</td><td>&quot;/assets/images/country/flag/us…</td><td>&quot;/assets/images/country/regions…</td><td>null</td></tr><tr><td>&quot;/tournament/8E4620F6-BE69-49E7…</td><td>&quot;Prodigy Smash Weekly #181&quot;</td><td>&quot;02 May 2025&quot;</td><td>&quot;/assets/images/country/flag/us…</td><td>&quot;/assets/images/country/regions…</td><td>null</td></tr><tr><td>&quot;/tournament/C9E99448-000D-4EFE…</td><td>&quot;HoG: Phoenix 8.2&quot;</td><td>&quot;01 May 2025&quot;</td><td>&quot;/assets/images/country/flag/us…</td><td>&quot;/assets/images/country/regions…</td><td>null</td></tr><tr><td>&quot;/tournament/0AE52887-C69F-4345…</td><td>&quot;Pichu Party Resurrected #7&quot;</td><td>&quot;01 May 2025&quot;</td><td>&quot;/assets/images/country/flag/us…</td><td>&quot;/assets/images/country/regions…</td><td>null</td></tr><tr><td>&quot;/tournament/4481369B-1408-4DA1…</td><td>&quot;One Up Melee 4.30.25&quot;</td><td>&quot;30 April 2025&quot;</td><td>&quot;/assets/images/country/flag/us…</td><td>&quot;/assets/images/country/regions…</td><td>null</td></tr><tr><td>&hellip;</td><td>&hellip;</td><td>&hellip;</td><td>&hellip;</td><td>&hellip;</td><td>&hellip;</td></tr><tr><td>&quot;/tournament/6C5C5707-D7E8-44C9…</td><td>&quot;New Game Plus Ultra 5&quot;</td><td>&quot;01 November 2017&quot;</td><td>null</td><td>null</td><td>null</td></tr><tr><td>&quot;/tournament/44A73460-4370-4763…</td><td>&quot;OBELISK 74 + NEMESIS 45&quot;</td><td>&quot;01 November 2017&quot;</td><td>null</td><td>null</td><td>null</td></tr><tr><td>&quot;/tournament/E751F098-C096-4658…</td><td>&quot;Multishine 103017&quot;</td><td>&quot;31 October 2017&quot;</td><td>null</td><td>null</td><td>null</td></tr><tr><td>&quot;/tournament/564F913B-F7D2-48EA…</td><td>&quot;SFTP 26: A Stock is a Terrible…</td><td>&quot;31 October 2017&quot;</td><td>null</td><td>null</td><td>null</td></tr><tr><td>&quot;/tournament/CF6A68D5-5A4B-4B8F…</td><td>&quot;Multishine 103017&quot;</td><td>&quot;31 October 2017&quot;</td><td>null</td><td>null</td><td>null</td></tr></tbody></table></div>"
      ],
      "text/plain": [
       "shape: (2_739, 6)\n",
       "┌────────────────┬────────────────┬────────────────┬───────────────┬───────────────┬───────────────┐\n",
       "│ url            ┆ name           ┆ date           ┆ country       ┆ region        ┆ number_of_pla │\n",
       "│ ---            ┆ ---            ┆ ---            ┆ ---           ┆ ---           ┆ yers          │\n",
       "│ str            ┆ str            ┆ str            ┆ str           ┆ str           ┆ ---           │\n",
       "│                ┆                ┆                ┆               ┆               ┆ str           │\n",
       "╞════════════════╪════════════════╪════════════════╪═══════════════╪═══════════════╪═══════════════╡\n",
       "│ /tournament/63 ┆ Mass Madness   ┆ 03 May 2025    ┆ /assets/image ┆ /assets/image ┆ null          │\n",
       "│ 3C3E6E-A97A-45 ┆ 50 - 10th      ┆                ┆ s/country/fla ┆ s/country/reg ┆               │\n",
       "│ F9…            ┆ Anniver…       ┆                ┆ g/us…         ┆ ions…         ┆               │\n",
       "│ /tournament/8E ┆ Prodigy Smash  ┆ 02 May 2025    ┆ /assets/image ┆ /assets/image ┆ null          │\n",
       "│ 4620F6-BE69-49 ┆ Weekly #181    ┆                ┆ s/country/fla ┆ s/country/reg ┆               │\n",
       "│ E7…            ┆                ┆                ┆ g/us…         ┆ ions…         ┆               │\n",
       "│ /tournament/C9 ┆ HoG: Phoenix   ┆ 01 May 2025    ┆ /assets/image ┆ /assets/image ┆ null          │\n",
       "│ E99448-000D-4E ┆ 8.2            ┆                ┆ s/country/fla ┆ s/country/reg ┆               │\n",
       "│ FE…            ┆                ┆                ┆ g/us…         ┆ ions…         ┆               │\n",
       "│ /tournament/0A ┆ Pichu Party    ┆ 01 May 2025    ┆ /assets/image ┆ /assets/image ┆ null          │\n",
       "│ E52887-C69F-43 ┆ Resurrected #7 ┆                ┆ s/country/fla ┆ s/country/reg ┆               │\n",
       "│ 45…            ┆                ┆                ┆ g/us…         ┆ ions…         ┆               │\n",
       "│ /tournament/44 ┆ One Up Melee   ┆ 30 April 2025  ┆ /assets/image ┆ /assets/image ┆ null          │\n",
       "│ 81369B-1408-4D ┆ 4.30.25        ┆                ┆ s/country/fla ┆ s/country/reg ┆               │\n",
       "│ A1…            ┆                ┆                ┆ g/us…         ┆ ions…         ┆               │\n",
       "│ …              ┆ …              ┆ …              ┆ …             ┆ …             ┆ …             │\n",
       "│ /tournament/6C ┆ New Game Plus  ┆ 01 November    ┆ null          ┆ null          ┆ null          │\n",
       "│ 5C5707-D7E8-44 ┆ Ultra 5        ┆ 2017           ┆               ┆               ┆               │\n",
       "│ C9…            ┆                ┆                ┆               ┆               ┆               │\n",
       "│ /tournament/44 ┆ OBELISK 74 +   ┆ 01 November    ┆ null          ┆ null          ┆ null          │\n",
       "│ A73460-4370-47 ┆ NEMESIS 45     ┆ 2017           ┆               ┆               ┆               │\n",
       "│ 63…            ┆                ┆                ┆               ┆               ┆               │\n",
       "│ /tournament/E7 ┆ Multishine     ┆ 31 October     ┆ null          ┆ null          ┆ null          │\n",
       "│ 51F098-C096-46 ┆ 103017         ┆ 2017           ┆               ┆               ┆               │\n",
       "│ 58…            ┆                ┆                ┆               ┆               ┆               │\n",
       "│ /tournament/56 ┆ SFTP 26: A     ┆ 31 October     ┆ null          ┆ null          ┆ null          │\n",
       "│ 4F913B-F7D2-48 ┆ Stock is a     ┆ 2017           ┆               ┆               ┆               │\n",
       "│ EA…            ┆ Terrible…      ┆                ┆               ┆               ┆               │\n",
       "│ /tournament/CF ┆ Multishine     ┆ 31 October     ┆ null          ┆ null          ┆ null          │\n",
       "│ 6A68D5-5A4B-4B ┆ 103017         ┆ 2017           ┆               ┆               ┆               │\n",
       "│ 8F…            ┆                ┆                ┆               ┆               ┆               │\n",
       "└────────────────┴────────────────┴────────────────┴───────────────┴───────────────┴───────────────┘"
      ]
     },
     "execution_count": 4,
     "metadata": {},
     "output_type": "execute_result"
    }
   ],
   "source": [
    "def extract_tournament_data(tournament_tags):\n",
    "    tournaments = []\n",
    "    for tournament_tag in tournament_tags:\n",
    "        data = {\n",
    "            'url': tournament_tag.find(class_='panel-heading').find('a')['href'],\n",
    "            'name': tournament_tag.find(class_='panel-heading').find('a').text.strip(),\n",
    "            'date': tournament_tag.find(string='Date').parent\n",
    "                     .find_next_sibling().text.strip() if tournament_tag.find(string='Date').parent.find_next_sibling() else None,\n",
    "            'country': (tournament_tag.find(class_='country_flag').find('img').get('src', None)\n",
    "                        if tournament_tag.find(class_='country_flag') else None),\n",
    "            'region': (tournament_tag.find(class_='country_region_flag').get('src', None)\n",
    "                       if tournament_tag.find(class_='country_region_flag') else None),\n",
    "            'number_of_players': (int(tournament_tag.find(data_original_title_='Imported players').text.strip())\n",
    "                                  if tournament_tag.find(data_original_title_='Imported players') else None)\n",
    "        }\n",
    "        tournaments.append(data)\n",
    "    return tournaments\n",
    "\n",
    "tournaments = extract_tournament_data(tournament_tags)\n",
    "# Convert the list of dictionaries to a Polars DataFrame\n",
    "tournaments_df = pl.DataFrame(tournaments, schema={col: pl.String for col in tournaments[0].keys()}).filter(pl.col('url').is_not_null())\n",
    "# Save the DataFrame to a CSV file\n",
    "tournaments_df\n"
   ]
  },
  {
   "cell_type": "code",
   "execution_count": 9,
   "id": "a34f2918",
   "metadata": {},
   "outputs": [
    {
     "name": "stdout",
     "output_type": "stream",
     "text": [
      "https://braacket.com//tournament/633C3E6E-A97A-45F9-B1B4-1ADA348C350C/match\n"
     ]
    }
   ],
   "source": [
    "match_url = f'https://braacket.com/{tournaments[0]['url']}/match'\n",
    "print(match_url)\n",
    "\n",
    "def scrape_stage_urls(match_url):\n",
    "    response = requests.get(match_url)\n",
    "    match_soup = BeautifulSoup(response.content, 'html.parser')\n",
    "    stage_urls = list(set(\n",
    "        map(\n",
    "            lambda x: x['href'],\n",
    "            match_soup.find_all(attrs={\"href\": re.compile(r\"^/tournament/.*/stage/.*$\")}),\n",
    "        )\n",
    "    ))\n",
    "    return stage_urls\n",
    "\n",
    "stage_urls = scrape_stage_urls(match_url)"
   ]
  },
  {
   "cell_type": "code",
   "execution_count": 30,
   "id": "25c56a7a",
   "metadata": {},
   "outputs": [
    {
     "data": {
      "text/html": [
       "<div><style>\n",
       ".dataframe > thead > tr,\n",
       ".dataframe > tbody > tr {\n",
       "  text-align: right;\n",
       "  white-space: pre-wrap;\n",
       "}\n",
       "</style>\n",
       "<small>shape: (152, 8)</small><table border=\"1\" class=\"dataframe\"><thead><tr><th>encounter_id</th><th>winner_url</th><th>winner</th><th>loser_url</th><th>loser</th><th>winner_score</th><th>loser_score</th><th>tournament_url</th></tr><tr><td>str</td><td>str</td><td>str</td><td>str</td><td>str</td><td>str</td><td>str</td><td>str</td></tr></thead><tbody><tr><td>&quot;6&quot;</td><td>&quot;/tournament/633C3E6E-A97A-45F9…</td><td>&quot;tedkittenski&quot;</td><td>&quot;/tournament/633C3E6E-A97A-45F9…</td><td>&quot;tedkittenski&quot;</td><td>&quot;tedkittenski&quot;</td><td>&quot;3&quot;</td><td>&quot;/tournament/633C3E6E-A97A-45F9…</td></tr><tr><td>&quot;12&quot;</td><td>&quot;/tournament/633C3E6E-A97A-45F9…</td><td>&quot;Kumatora&quot;</td><td>&quot;/tournament/633C3E6E-A97A-45F9…</td><td>&quot;Kumatora&quot;</td><td>&quot;Kumatora&quot;</td><td>&quot;3&quot;</td><td>&quot;/tournament/633C3E6E-A97A-45F9…</td></tr><tr><td>&quot;16&quot;</td><td>&quot;/tournament/633C3E6E-A97A-45F9…</td><td>&quot;Andrew&quot;</td><td>&quot;/tournament/633C3E6E-A97A-45F9…</td><td>&quot;Andrew&quot;</td><td>&quot;Andrew&quot;</td><td>&quot;3&quot;</td><td>&quot;/tournament/633C3E6E-A97A-45F9…</td></tr><tr><td>&quot;14&quot;</td><td>&quot;/tournament/633C3E6E-A97A-45F9…</td><td>&quot;witdashifts | ren&quot;</td><td>&quot;/tournament/633C3E6E-A97A-45F9…</td><td>&quot;witdashifts | ren&quot;</td><td>&quot;witdashifts | ren&quot;</td><td>&quot;3&quot;</td><td>&quot;/tournament/633C3E6E-A97A-45F9…</td></tr><tr><td>&quot;10&quot;</td><td>&quot;/tournament/633C3E6E-A97A-45F9…</td><td>&quot;Ferrari&quot;</td><td>&quot;/tournament/633C3E6E-A97A-45F9…</td><td>&quot;Ferrari&quot;</td><td>&quot;0&quot;</td><td>&quot;Ferrari&quot;</td><td>&quot;/tournament/633C3E6E-A97A-45F9…</td></tr><tr><td>&hellip;</td><td>&hellip;</td><td>&hellip;</td><td>&hellip;</td><td>&hellip;</td><td>&hellip;</td><td>&hellip;</td><td>&hellip;</td></tr><tr><td>&quot;252&quot;</td><td>&quot;/tournament/633C3E6E-A97A-45F9…</td><td>&quot;oz&quot;</td><td>&quot;/tournament/633C3E6E-A97A-45F9…</td><td>&quot;oz&quot;</td><td>&quot;oz&quot;</td><td>&quot;3&quot;</td><td>&quot;/tournament/633C3E6E-A97A-45F9…</td></tr><tr><td>&quot;253&quot;</td><td>&quot;/tournament/633C3E6E-A97A-45F9…</td><td>&quot;Ant&quot;</td><td>&quot;/tournament/633C3E6E-A97A-45F9…</td><td>&quot;Ant&quot;</td><td>&quot;Ant&quot;</td><td>&quot;3&quot;</td><td>&quot;/tournament/633C3E6E-A97A-45F9…</td></tr><tr><td>&quot;255&quot;</td><td>&quot;/tournament/633C3E6E-A97A-45F9…</td><td>&quot;hc | saucymain&quot;</td><td>&quot;/tournament/633C3E6E-A97A-45F9…</td><td>&quot;hc | saucymain&quot;</td><td>&quot;hc | saucymain&quot;</td><td>&quot;3&quot;</td><td>&quot;/tournament/633C3E6E-A97A-45F9…</td></tr><tr><td>&quot;256&quot;</td><td>&quot;/tournament/633C3E6E-A97A-45F9…</td><td>&quot;Ant&quot;</td><td>&quot;/tournament/633C3E6E-A97A-45F9…</td><td>&quot;Ant&quot;</td><td>&quot;0&quot;</td><td>&quot;Ant&quot;</td><td>&quot;/tournament/633C3E6E-A97A-45F9…</td></tr><tr><td>&quot;221&quot;</td><td>&quot;/tournament/633C3E6E-A97A-45F9…</td><td>&quot;Project&quot;</td><td>&quot;/tournament/633C3E6E-A97A-45F9…</td><td>&quot;Project&quot;</td><td>&quot;2&quot;</td><td>&quot;Project&quot;</td><td>&quot;/tournament/633C3E6E-A97A-45F9…</td></tr></tbody></table></div>"
      ],
      "text/plain": [
       "shape: (152, 8)\n",
       "┌────────────┬────────────┬────────────┬───────────┬───────────┬───────────┬───────────┬───────────┐\n",
       "│ encounter_ ┆ winner_url ┆ winner     ┆ loser_url ┆ loser     ┆ winner_sc ┆ loser_sco ┆ tournamen │\n",
       "│ id         ┆ ---        ┆ ---        ┆ ---       ┆ ---       ┆ ore       ┆ re        ┆ t_url     │\n",
       "│ ---        ┆ str        ┆ str        ┆ str       ┆ str       ┆ ---       ┆ ---       ┆ ---       │\n",
       "│ str        ┆            ┆            ┆           ┆           ┆ str       ┆ str       ┆ str       │\n",
       "╞════════════╪════════════╪════════════╪═══════════╪═══════════╪═══════════╪═══════════╪═══════════╡\n",
       "│ 6          ┆ /tournamen ┆ tedkittens ┆ /tourname ┆ tedkitten ┆ tedkitten ┆ 3         ┆ /tourname │\n",
       "│            ┆ t/633C3E6E ┆ ki         ┆ nt/633C3E ┆ ski       ┆ ski       ┆           ┆ nt/633C3E │\n",
       "│            ┆ -A97A-45F9 ┆            ┆ 6E-A97A-4 ┆           ┆           ┆           ┆ 6E-A97A-4 │\n",
       "│            ┆ …          ┆            ┆ 5F9…      ┆           ┆           ┆           ┆ 5F9…      │\n",
       "│ 12         ┆ /tournamen ┆ Kumatora   ┆ /tourname ┆ Kumatora  ┆ Kumatora  ┆ 3         ┆ /tourname │\n",
       "│            ┆ t/633C3E6E ┆            ┆ nt/633C3E ┆           ┆           ┆           ┆ nt/633C3E │\n",
       "│            ┆ -A97A-45F9 ┆            ┆ 6E-A97A-4 ┆           ┆           ┆           ┆ 6E-A97A-4 │\n",
       "│            ┆ …          ┆            ┆ 5F9…      ┆           ┆           ┆           ┆ 5F9…      │\n",
       "│ 16         ┆ /tournamen ┆ Andrew     ┆ /tourname ┆ Andrew    ┆ Andrew    ┆ 3         ┆ /tourname │\n",
       "│            ┆ t/633C3E6E ┆            ┆ nt/633C3E ┆           ┆           ┆           ┆ nt/633C3E │\n",
       "│            ┆ -A97A-45F9 ┆            ┆ 6E-A97A-4 ┆           ┆           ┆           ┆ 6E-A97A-4 │\n",
       "│            ┆ …          ┆            ┆ 5F9…      ┆           ┆           ┆           ┆ 5F9…      │\n",
       "│ 14         ┆ /tournamen ┆ witdashift ┆ /tourname ┆ witdashif ┆ witdashif ┆ 3         ┆ /tourname │\n",
       "│            ┆ t/633C3E6E ┆ s | ren    ┆ nt/633C3E ┆ ts | ren  ┆ ts | ren  ┆           ┆ nt/633C3E │\n",
       "│            ┆ -A97A-45F9 ┆            ┆ 6E-A97A-4 ┆           ┆           ┆           ┆ 6E-A97A-4 │\n",
       "│            ┆ …          ┆            ┆ 5F9…      ┆           ┆           ┆           ┆ 5F9…      │\n",
       "│ 10         ┆ /tournamen ┆ Ferrari    ┆ /tourname ┆ Ferrari   ┆ 0         ┆ Ferrari   ┆ /tourname │\n",
       "│            ┆ t/633C3E6E ┆            ┆ nt/633C3E ┆           ┆           ┆           ┆ nt/633C3E │\n",
       "│            ┆ -A97A-45F9 ┆            ┆ 6E-A97A-4 ┆           ┆           ┆           ┆ 6E-A97A-4 │\n",
       "│            ┆ …          ┆            ┆ 5F9…      ┆           ┆           ┆           ┆ 5F9…      │\n",
       "│ …          ┆ …          ┆ …          ┆ …         ┆ …         ┆ …         ┆ …         ┆ …         │\n",
       "│ 252        ┆ /tournamen ┆ oz         ┆ /tourname ┆ oz        ┆ oz        ┆ 3         ┆ /tourname │\n",
       "│            ┆ t/633C3E6E ┆            ┆ nt/633C3E ┆           ┆           ┆           ┆ nt/633C3E │\n",
       "│            ┆ -A97A-45F9 ┆            ┆ 6E-A97A-4 ┆           ┆           ┆           ┆ 6E-A97A-4 │\n",
       "│            ┆ …          ┆            ┆ 5F9…      ┆           ┆           ┆           ┆ 5F9…      │\n",
       "│ 253        ┆ /tournamen ┆ Ant        ┆ /tourname ┆ Ant       ┆ Ant       ┆ 3         ┆ /tourname │\n",
       "│            ┆ t/633C3E6E ┆            ┆ nt/633C3E ┆           ┆           ┆           ┆ nt/633C3E │\n",
       "│            ┆ -A97A-45F9 ┆            ┆ 6E-A97A-4 ┆           ┆           ┆           ┆ 6E-A97A-4 │\n",
       "│            ┆ …          ┆            ┆ 5F9…      ┆           ┆           ┆           ┆ 5F9…      │\n",
       "│ 255        ┆ /tournamen ┆ hc |       ┆ /tourname ┆ hc |      ┆ hc |      ┆ 3         ┆ /tourname │\n",
       "│            ┆ t/633C3E6E ┆ saucymain  ┆ nt/633C3E ┆ saucymain ┆ saucymain ┆           ┆ nt/633C3E │\n",
       "│            ┆ -A97A-45F9 ┆            ┆ 6E-A97A-4 ┆           ┆           ┆           ┆ 6E-A97A-4 │\n",
       "│            ┆ …          ┆            ┆ 5F9…      ┆           ┆           ┆           ┆ 5F9…      │\n",
       "│ 256        ┆ /tournamen ┆ Ant        ┆ /tourname ┆ Ant       ┆ 0         ┆ Ant       ┆ /tourname │\n",
       "│            ┆ t/633C3E6E ┆            ┆ nt/633C3E ┆           ┆           ┆           ┆ nt/633C3E │\n",
       "│            ┆ -A97A-45F9 ┆            ┆ 6E-A97A-4 ┆           ┆           ┆           ┆ 6E-A97A-4 │\n",
       "│            ┆ …          ┆            ┆ 5F9…      ┆           ┆           ┆           ┆ 5F9…      │\n",
       "│ 221        ┆ /tournamen ┆ Project    ┆ /tourname ┆ Project   ┆ 2         ┆ Project   ┆ /tourname │\n",
       "│            ┆ t/633C3E6E ┆            ┆ nt/633C3E ┆           ┆           ┆           ┆ nt/633C3E │\n",
       "│            ┆ -A97A-45F9 ┆            ┆ 6E-A97A-4 ┆           ┆           ┆           ┆ 6E-A97A-4 │\n",
       "│            ┆ …          ┆            ┆ 5F9…      ┆           ┆           ┆           ┆ 5F9…      │\n",
       "└────────────┴────────────┴────────────┴───────────┴───────────┴───────────┴───────────┴───────────┘"
      ]
     },
     "execution_count": 30,
     "metadata": {},
     "output_type": "execute_result"
    }
   ],
   "source": [
    "def scrape_stage_matches(tournament_url, stage_url):\n",
    "    matches = []\n",
    "    response = requests.get(f'https://braacket.com/{stage_url}')\n",
    "    stage_soup = BeautifulSoup(response.content, 'html.parser')\n",
    "\n",
    "    stage_encounters = stage_soup.find_all(class_='tournament_encounter-row')\n",
    "    for encounter in stage_encounters:\n",
    "        data = {\n",
    "            'encounter_id': encounter.find(class_='tournament_encounter-id').text.strip(),\n",
    "            'winner_url': encounter.find(class_=['tournament_encounter_opponent', 'winner']).find('a')['href'],\n",
    "            'winner': encounter.find(class_=['tournament_encounter_opponent', 'winner']).text.strip(),\n",
    "            'loser_url': encounter.find(class_=['tournament_encounter_opponent', 'loser']).find('a')['href'],\n",
    "            'loser': encounter.find(class_=['tournament_encounter_opponent', 'loser']).text.strip(),\n",
    "            'winner_score': encounter.find(class_=['tournament_encounter-score', 'winner']).text.strip(),\n",
    "            'loser_score': encounter.find(class_=['tournament_encounter-score', 'loser']).text.strip(),\n",
    "            'tournament_url': tournament_url,\n",
    "        }\n",
    "        matches.append(data)\n",
    "    return matches\n",
    "\n",
    "matches = scrape_stage_matches(tournaments[0]['url'], stage_urls[0])\n",
    "# Convert the list of dictionaries to a Polars DataFrame\n",
    "matches_df = pl.DataFrame(matches, schema={col: pl.String for col in matches[0].keys()})\n",
    "# Save the DataFrame to a CSV file\n",
    "matches_df\n"
   ]
  },
  {
   "cell_type": "markdown",
   "id": "5e6c450a",
   "metadata": {},
   "source": [
    "## Run Scraper"
   ]
  },
  {
   "cell_type": "code",
   "execution_count": 32,
   "id": "f1023ffc",
   "metadata": {},
   "outputs": [
    {
     "name": "stdout",
     "output_type": "stream",
     "text": [
      "Error processing tournament One Up Melee 9.4.24, /tournament/343299CA-F3AE-47B1-9899-E6E0E1B17DFF: 'NoneType' object is not subscriptable\n",
      "Error processing tournament New Game Plus Revival 6.9, /tournament/8DB1E88B-E0BF-414A-BD4C-18962149751B: 'NoneType' object is not subscriptable\n",
      "Error processing tournament Pho Tai Melee: #28 - DOUBLES EDITION - $50 Pot Bonus!, /tournament/E0585517-99CA-4A62-AEAA-EE9B30C097F0: 'NoneType' object is not subscriptable\n",
      "Error processing tournament New Game Plus Revival 4.17, /tournament/F8B2ADC3-BC70-4C78-B1B2-435D5B8DD5E7: 'NoneType' object is not subscriptable\n",
      "Error processing tournament New Game Plus Ultra 13, /tournament/1D0685B3-41D2-42D7-A179-C3376527155C: 'NoneType' object is not subscriptable\n"
     ]
    }
   ],
   "source": [
    "tournament_tags = scrape_tournament_tags(nemelee_tournaments_url)\n",
    "\n",
    "tournaments = extract_tournament_data(tournament_tags)\n",
    "tournaments_df = pl.DataFrame(tournaments, schema={col: pl.String for col in tournaments[0].keys()}).filter(pl.col('url').is_not_null())\n",
    "tournaments_df.write_csv('data/tournaments.csv')\n",
    "\n",
    "matches = []\n",
    "for tournament in tournaments:\n",
    "    tournament_matches = []\n",
    "    try:\n",
    "        match_url = f'https://braacket.com/{tournament[\"url\"]}/match'\n",
    "        stage_urls = scrape_stage_urls(match_url)\n",
    "        for stage_url in stage_urls:\n",
    "            tournament_matches += scrape_stage_matches(tournament['url'], stage_url)\n",
    "    except Exception as e:\n",
    "        print(f\"Error processing tournament {tournament['name']}, {tournament['url']}: {e}\")\n",
    "        continue\n",
    "    matches += tournament_matches\n",
    "\n",
    "matches_df = pl.DataFrame(matches, schema={col: pl.String for col in matches[0].keys()})\n",
    "matches_df.write_csv('data/matches.csv')"
   ]
  },
  {
   "cell_type": "code",
   "execution_count": 29,
   "id": "9496b2f3",
   "metadata": {},
   "outputs": [
    {
     "data": {
      "text/html": [
       "<div><style>\n",
       ".dataframe > thead > tr,\n",
       ".dataframe > tbody > tr {\n",
       "  text-align: right;\n",
       "  white-space: pre-wrap;\n",
       "}\n",
       "</style>\n",
       "<small>shape: (182, 7)</small><table border=\"1\" class=\"dataframe\"><thead><tr><th>encounter_id</th><th>winner_url</th><th>winner</th><th>loser_url</th><th>loser</th><th>winner_score</th><th>loser_score</th></tr><tr><td>str</td><td>str</td><td>str</td><td>str</td><td>str</td><td>str</td><td>str</td></tr></thead><tbody><tr><td>&quot;6&quot;</td><td>&quot;/tournament/633C3E6E-A97A-45F9…</td><td>&quot;tedkittenski&quot;</td><td>&quot;/tournament/633C3E6E-A97A-45F9…</td><td>&quot;tedkittenski&quot;</td><td>&quot;tedkittenski&quot;</td><td>&quot;3&quot;</td></tr><tr><td>&quot;12&quot;</td><td>&quot;/tournament/633C3E6E-A97A-45F9…</td><td>&quot;Kumatora&quot;</td><td>&quot;/tournament/633C3E6E-A97A-45F9…</td><td>&quot;Kumatora&quot;</td><td>&quot;Kumatora&quot;</td><td>&quot;3&quot;</td></tr><tr><td>&quot;16&quot;</td><td>&quot;/tournament/633C3E6E-A97A-45F9…</td><td>&quot;Andrew&quot;</td><td>&quot;/tournament/633C3E6E-A97A-45F9…</td><td>&quot;Andrew&quot;</td><td>&quot;Andrew&quot;</td><td>&quot;3&quot;</td></tr><tr><td>&quot;14&quot;</td><td>&quot;/tournament/633C3E6E-A97A-45F9…</td><td>&quot;witdashifts | ren&quot;</td><td>&quot;/tournament/633C3E6E-A97A-45F9…</td><td>&quot;witdashifts | ren&quot;</td><td>&quot;witdashifts | ren&quot;</td><td>&quot;3&quot;</td></tr><tr><td>&quot;10&quot;</td><td>&quot;/tournament/633C3E6E-A97A-45F9…</td><td>&quot;Ferrari&quot;</td><td>&quot;/tournament/633C3E6E-A97A-45F9…</td><td>&quot;Ferrari&quot;</td><td>&quot;0&quot;</td><td>&quot;Ferrari&quot;</td></tr><tr><td>&hellip;</td><td>&hellip;</td><td>&hellip;</td><td>&hellip;</td><td>&hellip;</td><td>&hellip;</td><td>&hellip;</td></tr><tr><td>&quot;43&quot;</td><td>&quot;/tournament/633C3E6E-A97A-45F9…</td><td>&quot;bonfire10&quot;</td><td>&quot;/tournament/633C3E6E-A97A-45F9…</td><td>&quot;bonfire10&quot;</td><td>&quot;bonfire10&quot;</td><td>&quot;3&quot;</td></tr><tr><td>&quot;7&quot;</td><td>&quot;/tournament/633C3E6E-A97A-45F9…</td><td>&quot;MATE | Kalvar&quot;</td><td>&quot;/tournament/633C3E6E-A97A-45F9…</td><td>&quot;MATE | Kalvar&quot;</td><td>&quot;MATE | Kalvar&quot;</td><td>&quot;3&quot;</td></tr><tr><td>&quot;45&quot;</td><td>&quot;/tournament/633C3E6E-A97A-45F9…</td><td>&quot;bonfire10&quot;</td><td>&quot;/tournament/633C3E6E-A97A-45F9…</td><td>&quot;bonfire10&quot;</td><td>&quot;bonfire10&quot;</td><td>&quot;3&quot;</td></tr><tr><td>&quot;46&quot;</td><td>&quot;/tournament/633C3E6E-A97A-45F9…</td><td>&quot;Ember&quot;</td><td>&quot;/tournament/633C3E6E-A97A-45F9…</td><td>&quot;Ember&quot;</td><td>&quot;Ember&quot;</td><td>&quot;3&quot;</td></tr><tr><td>&quot;8&quot;</td><td>&quot;/tournament/633C3E6E-A97A-45F9…</td><td>&quot;MATE | Kalvar&quot;</td><td>&quot;/tournament/633C3E6E-A97A-45F9…</td><td>&quot;MATE | Kalvar&quot;</td><td>&quot;MATE | Kalvar&quot;</td><td>&quot;3&quot;</td></tr></tbody></table></div>"
      ],
      "text/plain": [
       "shape: (182, 7)\n",
       "┌──────────────┬─────────────┬─────────────┬─────────────┬─────────────┬─────────────┬─────────────┐\n",
       "│ encounter_id ┆ winner_url  ┆ winner      ┆ loser_url   ┆ loser       ┆ winner_scor ┆ loser_score │\n",
       "│ ---          ┆ ---         ┆ ---         ┆ ---         ┆ ---         ┆ e           ┆ ---         │\n",
       "│ str          ┆ str         ┆ str         ┆ str         ┆ str         ┆ ---         ┆ str         │\n",
       "│              ┆             ┆             ┆             ┆             ┆ str         ┆             │\n",
       "╞══════════════╪═════════════╪═════════════╪═════════════╪═════════════╪═════════════╪═════════════╡\n",
       "│ 6            ┆ /tournament ┆ tedkittensk ┆ /tournament ┆ tedkittensk ┆ tedkittensk ┆ 3           │\n",
       "│              ┆ /633C3E6E-A ┆ i           ┆ /633C3E6E-A ┆ i           ┆ i           ┆             │\n",
       "│              ┆ 97A-45F9…   ┆             ┆ 97A-45F9…   ┆             ┆             ┆             │\n",
       "│ 12           ┆ /tournament ┆ Kumatora    ┆ /tournament ┆ Kumatora    ┆ Kumatora    ┆ 3           │\n",
       "│              ┆ /633C3E6E-A ┆             ┆ /633C3E6E-A ┆             ┆             ┆             │\n",
       "│              ┆ 97A-45F9…   ┆             ┆ 97A-45F9…   ┆             ┆             ┆             │\n",
       "│ 16           ┆ /tournament ┆ Andrew      ┆ /tournament ┆ Andrew      ┆ Andrew      ┆ 3           │\n",
       "│              ┆ /633C3E6E-A ┆             ┆ /633C3E6E-A ┆             ┆             ┆             │\n",
       "│              ┆ 97A-45F9…   ┆             ┆ 97A-45F9…   ┆             ┆             ┆             │\n",
       "│ 14           ┆ /tournament ┆ witdashifts ┆ /tournament ┆ witdashifts ┆ witdashifts ┆ 3           │\n",
       "│              ┆ /633C3E6E-A ┆ | ren       ┆ /633C3E6E-A ┆ | ren       ┆ | ren       ┆             │\n",
       "│              ┆ 97A-45F9…   ┆             ┆ 97A-45F9…   ┆             ┆             ┆             │\n",
       "│ 10           ┆ /tournament ┆ Ferrari     ┆ /tournament ┆ Ferrari     ┆ 0           ┆ Ferrari     │\n",
       "│              ┆ /633C3E6E-A ┆             ┆ /633C3E6E-A ┆             ┆             ┆             │\n",
       "│              ┆ 97A-45F9…   ┆             ┆ 97A-45F9…   ┆             ┆             ┆             │\n",
       "│ …            ┆ …           ┆ …           ┆ …           ┆ …           ┆ …           ┆ …           │\n",
       "│ 43           ┆ /tournament ┆ bonfire10   ┆ /tournament ┆ bonfire10   ┆ bonfire10   ┆ 3           │\n",
       "│              ┆ /633C3E6E-A ┆             ┆ /633C3E6E-A ┆             ┆             ┆             │\n",
       "│              ┆ 97A-45F9…   ┆             ┆ 97A-45F9…   ┆             ┆             ┆             │\n",
       "│ 7            ┆ /tournament ┆ MATE |      ┆ /tournament ┆ MATE |      ┆ MATE |      ┆ 3           │\n",
       "│              ┆ /633C3E6E-A ┆ Kalvar      ┆ /633C3E6E-A ┆ Kalvar      ┆ Kalvar      ┆             │\n",
       "│              ┆ 97A-45F9…   ┆             ┆ 97A-45F9…   ┆             ┆             ┆             │\n",
       "│ 45           ┆ /tournament ┆ bonfire10   ┆ /tournament ┆ bonfire10   ┆ bonfire10   ┆ 3           │\n",
       "│              ┆ /633C3E6E-A ┆             ┆ /633C3E6E-A ┆             ┆             ┆             │\n",
       "│              ┆ 97A-45F9…   ┆             ┆ 97A-45F9…   ┆             ┆             ┆             │\n",
       "│ 46           ┆ /tournament ┆ Ember       ┆ /tournament ┆ Ember       ┆ Ember       ┆ 3           │\n",
       "│              ┆ /633C3E6E-A ┆             ┆ /633C3E6E-A ┆             ┆             ┆             │\n",
       "│              ┆ 97A-45F9…   ┆             ┆ 97A-45F9…   ┆             ┆             ┆             │\n",
       "│ 8            ┆ /tournament ┆ MATE |      ┆ /tournament ┆ MATE |      ┆ MATE |      ┆ 3           │\n",
       "│              ┆ /633C3E6E-A ┆ Kalvar      ┆ /633C3E6E-A ┆ Kalvar      ┆ Kalvar      ┆             │\n",
       "│              ┆ 97A-45F9…   ┆             ┆ 97A-45F9…   ┆             ┆             ┆             │\n",
       "└──────────────┴─────────────┴─────────────┴─────────────┴─────────────┴─────────────┴─────────────┘"
      ]
     },
     "execution_count": 29,
     "metadata": {},
     "output_type": "execute_result"
    }
   ],
   "source": [
    "matches_df"
   ]
  },
  {
   "cell_type": "markdown",
   "id": "50ce59a7",
   "metadata": {},
   "source": [
    "# Calculate truskill"
   ]
  },
  {
   "cell_type": "code",
   "execution_count": 23,
   "id": "8ca0367e",
   "metadata": {},
   "outputs": [],
   "source": [
    "import trueskill"
   ]
  },
  {
   "cell_type": "code",
   "execution_count": 24,
   "id": "313f2fe2",
   "metadata": {},
   "outputs": [],
   "source": [
    "players = {}\n",
    "\n",
    "def rate_players(row: dict) -> dict:\n",
    "    # Create TrueSkill rating objects for the players\n",
    "    players[row['winner_url']] = trueskill.Rating()\n",
    "    players[row['loser_url']] = trueskill.Rating()\n",
    "\n",
    "    result = {\n",
    "        'winner_rating': players[row['winner_url']],\n",
    "        'loser_rating': players[row['loser_url']],\n",
    "    }\n",
    "\n",
    "    # Update the ratings based on the match outcome\n",
    "    new_winner_rating, new_loser_rating = trueskill.rate_1vs1(players[row['winner_url']], players[row['loser_url']])\n",
    "    players[row['winner_url']] = new_winner_rating\n",
    "    players[row['loser_url']] = new_loser_rating\n",
    "\n",
    "    result.update({\n",
    "        'new_winner_rating': new_winner_rating,\n",
    "        'new_loser_rating': new_loser_rating,\n",
    "    })\n",
    "    return result"
   ]
  },
  {
   "cell_type": "code",
   "execution_count": 25,
   "id": "0f905b11",
   "metadata": {},
   "outputs": [],
   "source": [
    "players = {}\n",
    "\n",
    "matches_with_ratings = matches_df.with_columns(\n",
    "    pl.struct(['winner_url', 'loser_url']).map_elements(rate_players, return_dtype=pl.Struct).alias('new_ratings')\n",
    ").unnest('new_ratings')"
   ]
  },
  {
   "cell_type": "code",
   "execution_count": 26,
   "id": "a207f364",
   "metadata": {},
   "outputs": [],
   "source": [
    "matches_with_ratings.write_csv('data/matches-with-ratings.csv')"
   ]
  },
  {
   "cell_type": "markdown",
   "id": "c37c93ce",
   "metadata": {},
   "source": [
    "## Export ranking"
   ]
  },
  {
   "cell_type": "code",
   "execution_count": 27,
   "id": "edf55749",
   "metadata": {},
   "outputs": [],
   "source": [
    "ranking = pl.DataFrame({\n",
    "    'player_url': [player_url for player_url in players.keys()],\n",
    "    'rating': [rating for rating in players.values()],\n",
    "})"
   ]
  },
  {
   "cell_type": "code",
   "execution_count": 28,
   "id": "452ce1ad",
   "metadata": {},
   "outputs": [
    {
     "data": {
      "text/html": [
       "<div><style>\n",
       ".dataframe > thead > tr,\n",
       ".dataframe > tbody > tr {\n",
       "  text-align: right;\n",
       "  white-space: pre-wrap;\n",
       "}\n",
       "</style>\n",
       "<small>shape: (66, 2)</small><table border=\"1\" class=\"dataframe\"><thead><tr><th>player_url</th><th>rating</th></tr><tr><td>str</td><td>f64</td></tr></thead><tbody><tr><td>&quot;/tournament/633C3E6E-A97A-45F9…</td><td>20.604168</td></tr><tr><td>&quot;/tournament/633C3E6E-A97A-45F9…</td><td>20.604168</td></tr><tr><td>&quot;/tournament/633C3E6E-A97A-45F9…</td><td>20.604168</td></tr><tr><td>&quot;/tournament/633C3E6E-A97A-45F9…</td><td>20.604168</td></tr><tr><td>&quot;/tournament/633C3E6E-A97A-45F9…</td><td>20.604168</td></tr><tr><td>&hellip;</td><td>&hellip;</td></tr><tr><td>&quot;/tournament/633C3E6E-A97A-45F9…</td><td>20.604168</td></tr><tr><td>&quot;/tournament/633C3E6E-A97A-45F9…</td><td>20.604168</td></tr><tr><td>&quot;/tournament/633C3E6E-A97A-45F9…</td><td>20.604168</td></tr><tr><td>&quot;/tournament/633C3E6E-A97A-45F9…</td><td>20.604168</td></tr><tr><td>&quot;/tournament/633C3E6E-A97A-45F9…</td><td>20.604168</td></tr></tbody></table></div>"
      ],
      "text/plain": [
       "shape: (66, 2)\n",
       "┌─────────────────────────────────┬───────────┐\n",
       "│ player_url                      ┆ rating    │\n",
       "│ ---                             ┆ ---       │\n",
       "│ str                             ┆ f64       │\n",
       "╞═════════════════════════════════╪═══════════╡\n",
       "│ /tournament/633C3E6E-A97A-45F9… ┆ 20.604168 │\n",
       "│ /tournament/633C3E6E-A97A-45F9… ┆ 20.604168 │\n",
       "│ /tournament/633C3E6E-A97A-45F9… ┆ 20.604168 │\n",
       "│ /tournament/633C3E6E-A97A-45F9… ┆ 20.604168 │\n",
       "│ /tournament/633C3E6E-A97A-45F9… ┆ 20.604168 │\n",
       "│ …                               ┆ …         │\n",
       "│ /tournament/633C3E6E-A97A-45F9… ┆ 20.604168 │\n",
       "│ /tournament/633C3E6E-A97A-45F9… ┆ 20.604168 │\n",
       "│ /tournament/633C3E6E-A97A-45F9… ┆ 20.604168 │\n",
       "│ /tournament/633C3E6E-A97A-45F9… ┆ 20.604168 │\n",
       "│ /tournament/633C3E6E-A97A-45F9… ┆ 20.604168 │\n",
       "└─────────────────────────────────┴───────────┘"
      ]
     },
     "execution_count": 28,
     "metadata": {},
     "output_type": "execute_result"
    }
   ],
   "source": [
    "ranking"
   ]
  }
 ],
 "metadata": {
  "kernelspec": {
   "display_name": "braacket-scraper",
   "language": "python",
   "name": "python3"
  },
  "language_info": {
   "codemirror_mode": {
    "name": "ipython",
    "version": 3
   },
   "file_extension": ".py",
   "mimetype": "text/x-python",
   "name": "python",
   "nbconvert_exporter": "python",
   "pygments_lexer": "ipython3",
   "version": "3.13.3"
  }
 },
 "nbformat": 4,
 "nbformat_minor": 5
}
